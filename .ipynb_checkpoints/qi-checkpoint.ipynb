{
 "cells": [
  {
   "cell_type": "markdown",
   "metadata": {},
   "source": [
    "# <p style=\"text-align:center\";>Projet NUMQI</p>\n",
    "## <p style=\"text-align:center\";>Rupture du barrage de Teton par effet renard</p>\n",
    "### <p style=\"text-align:center\";>Auteurs : Chambrin Vincent / Rouillon Fabien</p>"
   ]
  },
  {
   "cell_type": "markdown",
   "metadata": {},
   "source": [
    "## 2.1 Modélisation probabiliste\n"
   ]
  },
  {
   "cell_type": "code",
   "execution_count": null,
   "metadata": {},
   "outputs": [],
   "source": [
    "import openturns as ot"
   ]
  },
  {
   "cell_type": "markdown",
   "metadata": {},
   "source": [
    "#### Question 1"
   ]
  },
  {
   "cell_type": "code",
   "execution_count": null,
   "metadata": {},
   "outputs": [],
   "source": [
    "L = ot.Uniform(95, 105)\n",
    "delta_Hw = ot.Uniform(28, 32)\n",
    "gamma_g = ot.Uniform(2500, 2600)\n",
    "parameters = ot.LogNormalMuSigma(1*10**-3, 1*10**-4)\n",
    "k_er = ot.ParametrizedDistribution(parameters)\n",
    "tau_c = ot.TruncatedNormal(20, 5, 12, 28)\n",
    "Rd = ot.Uniform(0.25, 0.50)\n",
    "Rmax = ot.Uniform(55, 65)\n",
    "\n",
    "g = 9.81\n",
    "gamma_w = 1000"
   ]
  },
  {
   "cell_type": "code",
   "execution_count": null,
   "metadata": {},
   "outputs": [],
   "source": [
    "ot.Show(L.drawPDF())"
   ]
  },
  {
   "cell_type": "code",
   "execution_count": null,
   "metadata": {},
   "outputs": [],
   "source": [
    "ot.Show(delta_Hw.drawPDF())"
   ]
  },
  {
   "cell_type": "code",
   "execution_count": null,
   "metadata": {},
   "outputs": [],
   "source": [
    "ot.Show(gamma_g.drawPDF())"
   ]
  },
  {
   "cell_type": "code",
   "execution_count": null,
   "metadata": {},
   "outputs": [],
   "source": [
    "ot.Show(k_er.drawPDF())"
   ]
  },
  {
   "cell_type": "code",
   "execution_count": null,
   "metadata": {},
   "outputs": [],
   "source": [
    "ot.Show(tau_c.drawPDF())"
   ]
  },
  {
   "cell_type": "code",
   "execution_count": null,
   "metadata": {},
   "outputs": [],
   "source": [
    "ot.Show(Rd.drawPDF())"
   ]
  },
  {
   "cell_type": "code",
   "execution_count": null,
   "metadata": {},
   "outputs": [],
   "source": [
    "ot.Show(Rmax.drawPDF())"
   ]
  },
  {
   "cell_type": "markdown",
   "metadata": {},
   "source": [
    "#### Question 2"
   ]
  },
  {
   "cell_type": "code",
   "execution_count": null,
   "metadata": {},
   "outputs": [],
   "source": [
    "Z = 2 * L / (gamma_w * delta_Hw)"
   ]
  },
  {
   "cell_type": "code",
   "execution_count": null,
   "metadata": {},
   "outputs": [],
   "source": [
    "Z_mean = Z.getMean()[0]\n",
    "Z_sd = Z.getStandardDeviation()[0]\n",
    "graph = Z.drawPDF(Z_mean - 3*Z_sd, Z_mean + 3*Z_sd, 100)\n",
    "graph.setTitle('Z PDF')\n",
    "# the following line causes a crash\n",
    "# graph.setLegends([]) \n",
    "# this one works\n",
    "graph.setLegendPosition('')\n",
    "ot.Show(graph)"
   ]
  },
  {
   "cell_type": "markdown",
   "metadata": {},
   "source": [
    "#### Question 3"
   ]
  },
  {
   "cell_type": "code",
   "execution_count": null,
   "metadata": {},
   "outputs": [],
   "source": [
    "# D'après l'énoncé, les variables aléatoires définies à la question 1) \n",
    "# sont supposées indépendantes, le vecteur X que l'on doit définir est \n",
    "# donc composés de v.a. indépandantes.\n",
    "# On peut donc laisser le constructeur de ComposedDistribution utiliser \n",
    "# une IndependentCopula comme dernier paramètre.\n",
    "marginals = [Z, gamma_g, k_er, tau_c, Rd, Rmax]\n",
    "X = ot.ComposedDistribution(marginals)"
   ]
  },
  {
   "cell_type": "markdown",
   "metadata": {},
   "source": [
    "#### Question 4"
   ]
  },
  {
   "cell_type": "code",
   "execution_count": null,
   "metadata": {},
   "outputs": [],
   "source": [
    "X_loi = X\n",
    "X = ot.RandomVector(X_loi)"
   ]
  },
  {
   "cell_type": "markdown",
   "metadata": {},
   "source": [
    "#### Question 5"
   ]
  },
  {
   "cell_type": "code",
   "execution_count": null,
   "metadata": {},
   "outputs": [],
   "source": [
    "print(\"mean(X) : \", X.getMean())\n",
    "covs = X.getCovariance()\n",
    "dim = covs.getDimension()\n",
    "import math\n",
    "print(\"sd(X) : \",  [math.sqrt(covs[(i,i)]) for i in range(dim)])"
   ]
  },
  {
   "cell_type": "markdown",
   "metadata": {},
   "source": [
    "| Variable      | Moyenne | Ecart-type  |\n",
    "|---------------|---------|-------------|\n",
    "| $Z$           | 6.68e-3 | 3.22e-4     |\n",
    "| $\\gamma_g$    | 2550    | 28.868      |\n",
    "| $k_{er}$      | 0.001   | 1e-4        |\n",
    "| $\\tau_c$      | 20      | 3.88        |\n",
    "| $R_d$         | 0.375   | 0.0722      |\n",
    "| $R_{max}$     | 60      | 2.89        |"
   ]
  },
  {
   "cell_type": "markdown",
   "metadata": {},
   "source": [
    "## 2.2 Création de la variable d'intérêt\n"
   ]
  },
  {
   "cell_type": "markdown",
   "metadata": {},
   "source": [
    "#### Question 1"
   ]
  },
  {
   "cell_type": "code",
   "execution_count": null,
   "metadata": {},
   "outputs": [],
   "source": [
    "# Z = 2 * L / (gamma_w * delta_Hw)\n",
    "# Rmin = 2 * L * tau_c / (gamma_w * delta_Hw)\n",
    "#      = Z * tau_c\n",
    "# t_er = 2 * gamma_g * L / (g * gamma_w * k_er * delta_Hw)\n",
    "#      = Z * gamma_g / (g * k_er)\n",
    "# delta_tu = t_er log( (Rmax - Rmin) / (Rd - Rmin) )\n",
    "f = ot.SymbolicFunction(['Z', 'gamma_g', 'k_er', 'tau_c', 'Rd', 'Rmax'],\n",
    "                        ['Z * gamma_g / (9.81 * k_er) * log( (Rmax - Z * tau_c) / (Rd - Z * tau_c) )'])"
   ]
  },
  {
   "cell_type": "markdown",
   "metadata": {},
   "source": [
    "#### Question 2"
   ]
  },
  {
   "cell_type": "code",
   "execution_count": null,
   "metadata": {},
   "outputs": [],
   "source": [
    "Y = ot.RandomVector(f, X)"
   ]
  },
  {
   "cell_type": "markdown",
   "metadata": {},
   "source": [
    "#### Question 3"
   ]
  },
  {
   "cell_type": "code",
   "execution_count": null,
   "metadata": {},
   "outputs": [],
   "source": [
    "n = 10000\n",
    "samples = Y.getSample(n)\n",
    "mean = samples.computeMean()\n",
    "sd = samples.computeStandardDeviation()\n",
    "print('Mean of {} realizations of Y :'.format(n), mean)\n",
    "mean = mean[0]\n",
    "print('--> {}h{}m{}s'.format(int(mean/3600), int((int(mean)%3600)/60), int(mean)%60))\n",
    "print('Standard deviation of {} realizations of Y :'.format(n), sd)\n",
    "sd = sd[(0,0)]\n",
    "print('--> {}h{}m{}s'.format(int(sd/3600), int((int(sd)%3600)/60), int(sd)%60))"
   ]
  },
  {
   "cell_type": "markdown",
   "metadata": {},
   "source": [
    "Bien que l'écart-type soit raisonnable, il ne serait pas prudent de raisonner en terme de moyenne car, dans ce genre de situation, quelques minutes peuvent faire la différence."
   ]
  },
  {
   "cell_type": "code",
   "execution_count": null,
   "metadata": {},
   "outputs": [],
   "source": [
    "kernel = ot.KernelSmoothing()\n",
    "fittedDist = kernel.build(samples)\n",
    "graph = fittedDist.drawPDF()\n",
    "ot.Show(graph)"
   ]
  },
  {
   "cell_type": "markdown",
   "metadata": {},
   "source": [
    "## 2.3 Calcul de probabilité d’événements rares"
   ]
  },
  {
   "cell_type": "code",
   "execution_count": null,
   "metadata": {},
   "outputs": [],
   "source": [
    "E1 = ot.Event(Y, ot.Less(), 90 * 60) # E1 : le barrage s'effondre avant 1h30 (durée nécessaire à l'évacuation)\n",
    "E2 = ot.Event(Y, ot.Greater(), 180 * 60) # E2 : le barrage peut être stabilisé"
   ]
  },
  {
   "cell_type": "markdown",
   "metadata": {},
   "source": [
    "#### Question 1"
   ]
  },
  {
   "cell_type": "markdown",
   "metadata": {},
   "source": [
    "On utilise les méthodes [getCallsNumber()](http://openturns.github.io/openturns/master/user_manual/_generated/openturns.SymbolicFunction.html#openturns.SymbolicFunction.getCallsNumber), \n",
    "[getGradientCallsNumber()](http://openturns.github.io/openturns/master/user_manual/_generated/openturns.SymbolicFunction.html#openturns.SymbolicFunction.getGradientCallsNumber), \n",
    "[getHessianCallsNumber()](http://openturns.github.io/openturns/master/user_manual/_generated/openturns.SymbolicFunction.html#openturns.SymbolicFunction.getHessianCallsNumber), de la classe [SymbolicFunction](http://openturns.github.io/openturns/master/user_manual/_generated/openturns.SymbolicFunction.html) pour obtenir le nombre d'appels effectués. Comme la classe ne semble pas fournir un mécanisme permettant de remettre à zéro les compteurs, et que reconstruire à chaque fois les objets n'est pas très pratique, on calcul le nombre d'appels avant le lancement de l'algorithme et après pour savoir combien d'appels ont été fait."
   ]
  },
  {
   "cell_type": "code",
   "execution_count": null,
   "metadata": {},
   "outputs": [],
   "source": [
    "print(\"FORM\")\n",
    "\n",
    "solver = ot.SQP()\n",
    "form = ot.FORM(solver, E1, X.getMean())\n",
    "c1, c2, c3 =  f.getCallsNumber(), f.getGradientCallsNumber(), f.getHessianCallsNumber()\n",
    "form.run()\n",
    "result = form.getResult()\n",
    "print(\"Probability of E1 :\", result.getEventProbability())\n",
    "print('Number of calls to f:', f.getCallsNumber() - c1)\n",
    "print('Number of calls to f.gradient:', f.getGradientCallsNumber() - c2)\n",
    "print('Number of calls to f.hessian:', f.getHessianCallsNumber() - c3)"
   ]
  },
  {
   "cell_type": "code",
   "execution_count": null,
   "metadata": {},
   "outputs": [],
   "source": [
    "print(\"FORM\")\n",
    "solver = ot.SQP()\n",
    "form = ot.FORM(solver, E2, X.getMean())\n",
    "c1, c2, c3 =  f.getCallsNumber(), f.getGradientCallsNumber(), f.getHessianCallsNumber()\n",
    "form.run()\n",
    "result = form.getResult()\n",
    "print(\"Probability of E2 :\", result.getEventProbability())\n",
    "print('Number of calls to f:', f.getCallsNumber() - c1)\n",
    "print('Number of calls to f.gradient:', f.getGradientCallsNumber() - c2)\n",
    "print('Number of calls to f.hessian:', f.getHessianCallsNumber() - c3)"
   ]
  },
  {
   "cell_type": "code",
   "execution_count": null,
   "metadata": {},
   "outputs": [],
   "source": [
    "\n",
    "print(\"SORM\")\n",
    "\n",
    "solver = ot.SQP()\n",
    "sorm = ot.SORM(solver, E1, X.getMean())\n",
    "c1, c2, c3 =  f.getCallsNumber(), f.getGradientCallsNumber(), f.getHessianCallsNumber()\n",
    "sorm.run()\n",
    "result = sorm.getResult()\n",
    "print(\"Probability of E1 :\", result.getEventProbabilityBreitung())\n",
    "print('Number of calls to f:', f.getCallsNumber() - c1)\n",
    "print('Number of calls to f.gradient:', f.getGradientCallsNumber() - c2)\n",
    "print('Number of calls to f.hessian:', f.getHessianCallsNumber() - c3)"
   ]
  },
  {
   "cell_type": "code",
   "execution_count": null,
   "metadata": {},
   "outputs": [],
   "source": [
    "print(\"SORM\")\n",
    "solver = ot.SQP()\n",
    "sorm = ot.SORM(solver, E2, X.getMean())\n",
    "c1, c2, c3 =  f.getCallsNumber(), f.getGradientCallsNumber(), f.getHessianCallsNumber()\n",
    "sorm.run()\n",
    "result = sorm.getResult()\n",
    "print(\"Probability of E2 :\", result.getEventProbabilityBreitung())\n",
    "print('Number of calls to f:', f.getCallsNumber() - c1)\n",
    "print('Number of calls to f.gradient:', f.getGradientCallsNumber() - c2)\n",
    "print('Number of calls to f.hessian:', f.getHessianCallsNumber() - c3)"
   ]
  },
  {
   "cell_type": "markdown",
   "metadata": {},
   "source": [
    "La méthode FORM semble être un peu moins gourmande en appels de fonction. La probabilité de $E_2$ semble être la plus facile à évaluer car les deux méthodes sont à peu près d'accord pour dire qu'elle vaut environ 0.20. Pour $E_1$ c'est plus compliqué, on a vraiment là un évènement rare et une probabilité qui serait de l'ordre de $10^{-7}$ ou $10^{-6}$."
   ]
  },
  {
   "cell_type": "markdown",
   "metadata": {},
   "source": [
    "On peut s'interroger sur la dénomination \"évènement rare\" dans le cas de $E_2$ car la probabilité est relativement élevée. "
   ]
  },
  {
   "cell_type": "markdown",
   "metadata": {},
   "source": [
    "#### Question 2"
   ]
  },
  {
   "cell_type": "markdown",
   "metadata": {},
   "source": [
    "> La probabilité de $E_1$ est de l'ordre de $10^{-6}$, pour avoir un écart-type de l'ordre\n",
    "de $0.1 \\times 10^{-6}$, il faut faire environ $1 / (0.1^2 \\times 10^{-6})$ évalutations."
   ]
  },
  {
   "cell_type": "code",
   "execution_count": null,
   "metadata": {},
   "outputs": [],
   "source": [
    "1/(0.1**2 * 10**-6)"
   ]
  },
  {
   "cell_type": "markdown",
   "metadata": {},
   "source": [
    "> La probabilité de $E_2$ est de l'ordre de 0.2, pour avoir un écart-type de l'ordre \n",
    " de $0.1 \\times 0.2$, il faut faire environ $1 / (0.1^2 \\times 0.2)$ évaluations.\n"
   ]
  },
  {
   "cell_type": "code",
   "execution_count": null,
   "metadata": {},
   "outputs": [],
   "source": [
    "1/(0.1**2 * 0.2)"
   ]
  },
  {
   "cell_type": "markdown",
   "metadata": {},
   "source": [
    "#### Question 3"
   ]
  },
  {
   "cell_type": "markdown",
   "metadata": {},
   "source": [
    "On s'inspire du script `monteCarlo.py` disponible sur le serveur pédagogique."
   ]
  },
  {
   "cell_type": "code",
   "execution_count": null,
   "metadata": {},
   "outputs": [],
   "source": [
    "monte_carlo = ot.MonteCarloExperiment()\n",
    "verbose = True\n",
    "simu = ot.ProbabilitySimulationAlgorithm(E1, monte_carlo, verbose)\n",
    "simu.setBlockSize(2) ## number of cpu\n",
    "simu.setMaximumOuterSampling(1000)\n",
    "simu.setMaximumCoefficientOfVariation(0.1)\n",
    "simu.run()\n",
    "print('Probability estimate of E1 = %.8f' % simu.getResult().getProbabilityEstimate())\n",
    "print('Coefficient of variation : ', simu.getResult().getCoefficientOfVariation())"
   ]
  },
  {
   "cell_type": "markdown",
   "metadata": {},
   "source": [
    "[Note: la dernière fois que j'ai lancé l'algo j'ai obtenue une proba de 0, il y a peut être un problème de paramétrage des algo...]"
   ]
  },
  {
   "cell_type": "code",
   "execution_count": null,
   "metadata": {},
   "outputs": [],
   "source": [
    "monte_carlo = ot.MonteCarloExperiment()\n",
    "verbose = True\n",
    "simu = ot.ProbabilitySimulationAlgorithm(E2, monte_carlo, verbose)\n",
    "simu.setBlockSize(2) ## number of cpu\n",
    "simu.setMaximumOuterSampling(1000)\n",
    "simu.setMaximumCoefficientOfVariation(0.1)\n",
    "simu.run()\n",
    "print('Probability estimate of E2 = %.6f' % simu.getResult().getProbabilityEstimate())\n",
    "print('Coefficient of variation : ', simu.getResult().getCoefficientOfVariation())"
   ]
  },
  {
   "cell_type": "markdown",
   "metadata": {},
   "source": [
    "On en déduit qu'il est extrêmement improbable de ne pas pouvoir évacuer la population.\n",
    "En revanche, on ne pourra stabiliser la brèche que dans 1 cas sur 5 en moyenne."
   ]
  },
  {
   "cell_type": "markdown",
   "metadata": {},
   "source": [
    "#### Question 1"
   ]
  },
  {
   "cell_type": "markdown",
   "metadata": {},
   "source": [
    "On crée deux variables aléatoires supplémentaires $T_{evac}$ et $T_{stabi}$ correspondant aux temps d'évacuation et de stabilisation."
   ]
  },
  {
   "cell_type": "code",
   "execution_count": null,
   "metadata": {},
   "outputs": [],
   "source": [
    "T_evac  = ot.Uniform(90*60, 120*60)\n",
    "T_stabi = ot.Uniform(3*60*60, 4*60*60)\n",
    "\n",
    "marginals = [Z, gamma_g, k_er, tau_c, Rd, Rmax, T_evac, T_stabi]\n",
    "Xtilde_loi = ot.ComposedDistribution(marginals)\n",
    "Xtilde = ot.RandomVector(Xtilde_loi)"
   ]
  },
  {
   "cell_type": "markdown",
   "metadata": {},
   "source": [
    "#### Question 2"
   ]
  },
  {
   "cell_type": "markdown",
   "metadata": {},
   "source": [
    "On étudie ensuite deux quantités d'intérêts $W_{evac}$ et $W_{stabi}$."
   ]
  },
  {
   "cell_type": "code",
   "execution_count": null,
   "metadata": {},
   "outputs": [],
   "source": [
    "\n",
    "f_tilde_evac = ot.SymbolicFunction(['Z', 'gamma_g', 'k_er', 'tau_c', 'Rd', 'Rmax', 'T_evac', 'T_stabi'],\n",
    "                        ['Z * gamma_g / (9.81 * k_er) * log( (Rmax - Z * tau_c) / (Rd - Z * tau_c) ) - T_evac'])\n",
    "W_evac = ot.RandomVector(f_tilde_evac, Xtilde)\n",
    "\n",
    "f_tilde_stabi = ot.SymbolicFunction(['Z', 'gamma_g', 'k_er', 'tau_c', 'Rd', 'Rmax', 'T_evac', 'T_stabi'],\n",
    "                        ['Z * gamma_g / (9.81 * k_er) * log( (Rmax - Z * tau_c) / (Rd - Z * tau_c) ) - T_stabi'])\n",
    "W_stabi = ot.RandomVector(f_tilde_stabi, Xtilde)"
   ]
  },
  {
   "cell_type": "markdown",
   "metadata": {},
   "source": [
    "#### Question 3"
   ]
  },
  {
   "cell_type": "markdown",
   "metadata": {},
   "source": [
    "On associe à ces quantités deux évènements $\\tilde E_1$ et $\\tilde E_2$ correspondant à l'impossibilité d'évacuer et à la possibilité de colmater la brèche."
   ]
  },
  {
   "cell_type": "code",
   "execution_count": null,
   "metadata": {},
   "outputs": [],
   "source": [
    "E1_tilde = ot.Event(W_evac, ot.Less(), 0) # E1 : le barrage s'effondre avant l'evacuation\n",
    "E2_tilde = ot.Event(W_stabi, ot.Greater(), 0) # E2 : le barrage peut être stabilisé"
   ]
  },
  {
   "cell_type": "markdown",
   "metadata": {},
   "source": [
    "#### Question 4"
   ]
  },
  {
   "cell_type": "code",
   "execution_count": null,
   "metadata": {},
   "outputs": [],
   "source": [
    "print(\"FORM\")\n",
    "\n",
    "solver = ot.SQP()\n",
    "form = ot.FORM(solver, E1_tilde, Xtilde.getMean())\n",
    "form.run()\n",
    "result = form.getResult()\n",
    "print(\"Probability of E1_tilde :\", result.getEventProbability())"
   ]
  },
  {
   "cell_type": "code",
   "execution_count": null,
   "metadata": {},
   "outputs": [],
   "source": [
    "print(\"FORM\")\n",
    "solver = ot.SQP()\n",
    "form = ot.FORM(solver, E2_tilde, Xtilde.getMean())\n",
    "form.run()\n",
    "result = form.getResult()\n",
    "print(\"Probability of E2_tilde :\", result.getEventProbability())"
   ]
  },
  {
   "cell_type": "markdown",
   "metadata": {},
   "source": [
    "La probabilité de ne pas pouvoir évacué la population reste très faible. En revanche, celle de pouvoir colmater la brèche a fortement diminuée."
   ]
  },
  {
   "cell_type": "markdown",
   "metadata": {},
   "source": [
    "## 2.4 Approximation de modèle"
   ]
  },
  {
   "cell_type": "markdown",
   "metadata": {},
   "source": [
    "#### Question 1"
   ]
  },
  {
   "cell_type": "code",
   "execution_count": null,
   "metadata": {},
   "outputs": [],
   "source": [
    "Xtilde.getDimension()"
   ]
  },
  {
   "cell_type": "code",
   "execution_count": null,
   "metadata": {},
   "outputs": [],
   "source": [
    "d = Xtilde.getDimension()\n",
    "Xtilde_loi = Xtilde.getDistribution()\n",
    "enumerateFunction = ot.LinearEnumerateFunction(d)\n",
    "H = [ot.StandardDistributionPolynomialFactory(ot.AdaptiveStieltjesAlgorithm(Xtilde_loi.getMarginal(i))) for i in range(d)]\n",
    "productBasis = ot.OrthogonalProductPolynomialFactory(H,ot.LinearEnumerateFunction(d))\n",
    "m = enumerateFunction.getStrataCumulatedCardinal(3)\n",
    "print(m)"
   ]
  },
  {
   "cell_type": "code",
   "execution_count": null,
   "metadata": {},
   "outputs": [],
   "source": [
    "in_sample = Xtilde.getSample(100)"
   ]
  },
  {
   "cell_type": "code",
   "execution_count": null,
   "metadata": {},
   "outputs": [],
   "source": [
    "# On se place dans le cas où l'on s'intéresse à la possibilité de stabiliser.\n",
    "out_sample = f_tilde_stabi(in_sample)"
   ]
  },
  {
   "cell_type": "code",
   "execution_count": null,
   "metadata": {},
   "outputs": [],
   "source": [
    "p = 3"
   ]
  },
  {
   "cell_type": "code",
   "execution_count": null,
   "metadata": {},
   "outputs": [],
   "source": [
    "algoSelection = ot.LeastSquaresMetaModelSelectionFactory(ot.LARS(),ot.CorrectedLeaveOneOut())\n",
    "algo_meta = ot.FunctionalChaosAlgorithm(in_sample,out_sample,Xtilde_loi,ot.FixedStrategy(productBasis,m),ot.LeastSquaresStrategy(algoSelection))\n",
    "algo_meta.run()\n",
    "result = algo_meta.getResult()\n",
    "meta_model = result.getMetaModel()"
   ]
  },
  {
   "cell_type": "markdown",
   "metadata": {},
   "source": [
    "#### Question 3"
   ]
  },
  {
   "cell_type": "code",
   "execution_count": null,
   "metadata": {},
   "outputs": [],
   "source": [
    "test_in_sample = Xtilde.getSample(100)\n",
    "test_out_sample = f_tilde_stabi(test_in_sample)"
   ]
  },
  {
   "cell_type": "code",
   "execution_count": null,
   "metadata": {},
   "outputs": [],
   "source": [
    "valid = ot.MetaModelValidation(test_in_sample, test_out_sample, meta_model)"
   ]
  },
  {
   "cell_type": "code",
   "execution_count": null,
   "metadata": {},
   "outputs": [],
   "source": [
    "q2 = valid.computePredictivityFactor()\n",
    "print(q2)"
   ]
  },
  {
   "cell_type": "code",
   "execution_count": null,
   "metadata": {},
   "outputs": [],
   "source": [
    "ot.Show(valid.drawValidation())"
   ]
  },
  {
   "cell_type": "markdown",
   "metadata": {},
   "source": [
    "Le meta-modèle est de qualité !"
   ]
  },
  {
   "cell_type": "markdown",
   "metadata": {},
   "source": [
    "#### Question 4"
   ]
  },
  {
   "cell_type": "code",
   "execution_count": null,
   "metadata": {},
   "outputs": [],
   "source": [
    "monte_carlo = ot.MonteCarloExperiment()\n",
    "verbose = True\n",
    "simu = ot.ProbabilitySimulationAlgorithm(E2_tilde, monte_carlo, verbose)\n",
    "simu.setBlockSize(2) ## number of cpu\n",
    "simu.setMaximumOuterSampling(1000)\n",
    "simu.setMaximumCoefficientOfVariation(0.01)\n",
    "simu.run()\n",
    "print('Probability estimate of E2_tilde = %.6f' % simu.getResult().getProbabilityEstimate())"
   ]
  },
  {
   "cell_type": "markdown",
   "metadata": {},
   "source": [
    "## 2.5 Analyse de sensibilité"
   ]
  },
  {
   "cell_type": "markdown",
   "metadata": {},
   "source": [
    "#### Question 1"
   ]
  },
  {
   "cell_type": "code",
   "execution_count": null,
   "metadata": {},
   "outputs": [],
   "source": [
    "T = T_stabi\n",
    "marginals = [Z, gamma_g, k_er, tau_c, Rd, Rmax, T]\n",
    "X_loi = ot.ComposedDistribution(marginals)\n",
    "X = ot.RandomVector(X_loi)\n",
    "model = ot.SymbolicFunction(['Z', 'gamma_g', 'k_er', 'tau_c', 'Rd', 'Rmax', 'T'],\n",
    "                            ['Z * gamma_g / (9.81 * k_er) * log( (Rmax - Z * tau_c) / (Rd - Z * tau_c) ) - T'])"
   ]
  },
  {
   "cell_type": "code",
   "execution_count": null,
   "metadata": {},
   "outputs": [],
   "source": [
    "d = X.getDimension()\n",
    "enumerateFunction = ot.LinearEnumerateFunction(d)\n",
    "H = [ot.StandardDistributionPolynomialFactory(ot.AdaptiveStieltjesAlgorithm(X_loi.getMarginal(i))) for i in range(d)]\n",
    "productBasis = ot.OrthogonalProductPolynomialFactory(H,ot.LinearEnumerateFunction(d))\n",
    "degree = 3\n",
    "m = enumerateFunction.getStrataCumulatedCardinal(degree)\n",
    "print(m)"
   ]
  },
  {
   "cell_type": "code",
   "execution_count": null,
   "metadata": {},
   "outputs": [],
   "source": [
    "algoSelection = ot.LeastSquaresMetaModelSelectionFactory(ot.LARS(),ot.CorrectedLeaveOneOut())\n",
    "in_sample = X.getSample(1000)\n",
    "out_sample = model(in_sample)\n",
    "algo_meta = ot.FunctionalChaosAlgorithm(in_sample,out_sample,X_loi,ot.FixedStrategy(productBasis,m),ot.LeastSquaresStrategy(algoSelection))\n",
    "#algo_meta = ot.FunctionalChaosAlgorithm(model, X_loi,ot.FixedStrategy(productBasis,m),ot.LeastSquaresStrategy(algoSelection))\n",
    "algo_meta.run()\n",
    "result = algo_meta.getResult()"
   ]
  },
  {
   "cell_type": "code",
   "execution_count": null,
   "metadata": {},
   "outputs": [],
   "source": [
    "fcrv = ot.FunctionalChaosRandomVector(result)"
   ]
  },
  {
   "cell_type": "code",
   "execution_count": null,
   "metadata": {},
   "outputs": [],
   "source": [
    "for i in range(d):\n",
    "    name = model.getInputDescription()[i]\n",
    "    print(name, ':', fcrv.getSobolIndex([i]))"
   ]
  },
  {
   "cell_type": "code",
   "execution_count": null,
   "metadata": {},
   "outputs": [],
   "source": [
    "for i in range(d):\n",
    "    name = model.getInputDescription()[i]\n",
    "    print(name, ':', fcrv.getSobolTotalIndex([i]))"
   ]
  },
  {
   "cell_type": "markdown",
   "metadata": {},
   "source": [
    "#### Question 2"
   ]
  },
  {
   "cell_type": "code",
   "execution_count": null,
   "metadata": {},
   "outputs": [],
   "source": [
    "in_sample = X.getSample(10000)\n",
    "out_sample = model(in_sample)\n",
    "kept = []\n",
    "for i in range(len(out_sample)):\n",
    "    if out_sample[i][0] > 0:\n",
    "        kept.append(in_sample[i])\n",
    "    if len(kept) == 100:\n",
    "        break"
   ]
  },
  {
   "cell_type": "code",
   "execution_count": null,
   "metadata": {},
   "outputs": [],
   "source": [
    "avg_X_cond_E2 = ot.NumericalSample(kept).computeMean()\n",
    "avg_X_cond_E2"
   ]
  },
  {
   "cell_type": "code",
   "execution_count": null,
   "metadata": {},
   "outputs": [],
   "source": []
  }
 ],
 "metadata": {
  "kernelspec": {
   "display_name": "Python 3",
   "language": "python",
   "name": "python3"
  },
  "language_info": {
   "codemirror_mode": {
    "name": "ipython",
    "version": 3
   },
   "file_extension": ".py",
   "mimetype": "text/x-python",
   "name": "python",
   "nbconvert_exporter": "python",
   "pygments_lexer": "ipython3",
   "version": "3.6.3"
  }
 },
 "nbformat": 4,
 "nbformat_minor": 2
}
