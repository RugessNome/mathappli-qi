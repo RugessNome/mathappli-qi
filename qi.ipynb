{
 "cells": [
  {
   "cell_type": "markdown",
   "metadata": {},
   "source": [
    "## 2.1 Modélisation probabiliste\n"
   ]
  },
  {
   "cell_type": "code",
   "execution_count": null,
   "metadata": {
    "collapsed": true
   },
   "outputs": [],
   "source": [
    "import openturns as ot"
   ]
  },
  {
   "cell_type": "markdown",
   "metadata": {},
   "source": [
    "Question 1"
   ]
  },
  {
   "cell_type": "code",
   "execution_count": null,
   "metadata": {
    "collapsed": true
   },
   "outputs": [],
   "source": [
    "L = ot.Uniform(96, 110)\n",
    "delta_Hw = ot.Uniform(28, 32)\n",
    "gamma_g = ot.Uniform(3700, 4200)\n",
    "parameters = ot.LogNormalMuSigma(10**-3, 2*10**-3)\n",
    "k_er = ot.ParametrizedDistribution(parameters)\n",
    "tau_c = ot.TruncatedNormal(20, 5, 12, 28)\n",
    "Rd = ot.Uniform(0.25, 0.35)\n",
    "Rmax = ot.Uniform(55, 65)\n",
    "\n",
    "g = 9.81\n",
    "gamma_w = 1000"
   ]
  },
  {
   "cell_type": "markdown",
   "metadata": {},
   "source": [
    "Question 2"
   ]
  },
  {
   "cell_type": "code",
   "execution_count": null,
   "metadata": {
    "collapsed": true
   },
   "outputs": [],
   "source": [
    "Z = 2 * L / (gamma_w * delta_Hw)"
   ]
  },
  {
   "cell_type": "code",
   "execution_count": null,
   "metadata": {},
   "outputs": [],
   "source": [
    "Z_mean = Z.getMean()[0]\n",
    "Z_sd = Z.getStandardDeviation()[0]\n",
    "graph = Z.drawPDF(Z_mean - 3*Z_sd, Z_mean + 3*Z_sd, 100)\n",
    "graph.setTitle('Z PDF')\n",
    "# the following line causes a crash\n",
    "# graph.setLegends([]) \n",
    "# this one works\n",
    "graph.setLegendPosition('')\n",
    "ot.Show(graph)"
   ]
  },
  {
   "cell_type": "markdown",
   "metadata": {},
   "source": [
    "Question 3"
   ]
  },
  {
   "cell_type": "code",
   "execution_count": null,
   "metadata": {
    "collapsed": true
   },
   "outputs": [],
   "source": [
    "# D'après l'énoncé, les variables aléatoires définies à la question 1) \n",
    "# sont supposées indépendantes, le vecteur X que l'on doit définir est \n",
    "# donc composés de v.a. indépandantes.\n",
    "# On peut donc laisser le constructeur de ComposedDistribution utiliser \n",
    "# une IndependentCopula comme dernier paramètre.\n",
    "marginals = [Z, gamma_g, k_er, tau_c, Rd, Rmax]\n",
    "X = ot.ComposedDistribution(marginals)"
   ]
  },
  {
   "cell_type": "markdown",
   "metadata": {},
   "source": [
    "Question 4"
   ]
  },
  {
   "cell_type": "code",
   "execution_count": null,
   "metadata": {
    "collapsed": true
   },
   "outputs": [],
   "source": [
    "X_loi = X\n",
    "X = ot.RandomVector(X_loi)"
   ]
  },
  {
   "cell_type": "markdown",
   "metadata": {},
   "source": [
    "Question 5"
   ]
  },
  {
   "cell_type": "code",
   "execution_count": null,
   "metadata": {},
   "outputs": [],
   "source": [
    "print(\"mean(X) : \", X.getMean())\n",
    "covs = X.getCovariance()\n",
    "dim = covs.getDimension()\n",
    "import math\n",
    "print(\"sd(X) : \",  [math.sqrt(covs[(i,i)]) for i in range(dim)])"
   ]
  },
  {
   "cell_type": "markdown",
   "metadata": {},
   "source": [
    "## 2.2 Création de la variable d'intérêt\n"
   ]
  },
  {
   "cell_type": "markdown",
   "metadata": {},
   "source": [
    "Question 1"
   ]
  },
  {
   "cell_type": "code",
   "execution_count": null,
   "metadata": {
    "collapsed": true
   },
   "outputs": [],
   "source": [
    "# Z = 2 * L / (gamma_w * delta_Hw)\n",
    "# Rmin = 2 * L * tau_c / (gamma_w * delta_Hw)\n",
    "#      = Z * tau_c\n",
    "# t_er = 2 * gamma_g * L / (g * gamma_w * k_er * delta_Hw)\n",
    "#      = Z * gamma_g / (g * k_er)\n",
    "# delta_tu = t_er log( (Rmax - Rmin) / (Rd - Rmin) )\n",
    "f = ot.SymbolicFunction(['Z', 'gamma_g', 'k_er', 'tau_c', 'Rd', 'Rmax'],\n",
    "                        ['Z * gamma_g / (9.81 * k_er) * log( (Rmax - Z * tau_c) / (Rd - Z * tau_c) )'])"
   ]
  },
  {
   "cell_type": "markdown",
   "metadata": {},
   "source": [
    "Question 2"
   ]
  },
  {
   "cell_type": "code",
   "execution_count": null,
   "metadata": {
    "collapsed": true
   },
   "outputs": [],
   "source": [
    "Y = ot.RandomVector(f, X)"
   ]
  },
  {
   "cell_type": "markdown",
   "metadata": {},
   "source": [
    "Question 3"
   ]
  },
  {
   "cell_type": "code",
   "execution_count": null,
   "metadata": {},
   "outputs": [],
   "source": [
    "n = 10000\n",
    "samples = Y.getSample(n)\n",
    "mean = samples.computeMean()\n",
    "sd = samples.computeStandardDeviation()\n",
    "print('Mean of {} realizations of Y :'.format(n), mean)\n",
    "print('Standard deviation of {} realizations of Y :'.format(n), sd)"
   ]
  },
  {
   "cell_type": "code",
   "execution_count": null,
   "metadata": {},
   "outputs": [],
   "source": [
    "kernel = ot.KernelSmoothing()\n",
    "fittedDist = kernel.build(samples)\n",
    "graph = fittedDist.drawPDF()\n",
    "ot.Show(graph)"
   ]
  },
  {
   "cell_type": "markdown",
   "metadata": {},
   "source": [
    "Le graphe laisse supposer qu'il n'est pas impossible d'obtenir un temps avant rupture négatif. \n",
    "Ceci est du au kernel smoothing, si l'on regarde le min de l'échantillon, on a bien une valeur positive."
   ]
  },
  {
   "cell_type": "code",
   "execution_count": null,
   "metadata": {},
   "outputs": [],
   "source": [
    "samples.getMin() / 60"
   ]
  },
  {
   "cell_type": "markdown",
   "metadata": {},
   "source": [
    "## 2.3 Calcul de probabilité d’événements rares"
   ]
  },
  {
   "cell_type": "code",
   "execution_count": null,
   "metadata": {
    "collapsed": true
   },
   "outputs": [],
   "source": [
    "E1 = ot.Event(Y, ot.Less(), 90 * 60) # E1 : le barrage s'effondre avant 1h30 (durée nécessaire à l'évacuation)\n",
    "E2 = ot.Event(Y, ot.Greater(), 180 * 60) # E2 : le barrage peut être stabilisé"
   ]
  },
  {
   "cell_type": "markdown",
   "metadata": {},
   "source": [
    "Question 1"
   ]
  },
  {
   "cell_type": "code",
   "execution_count": null,
   "metadata": {},
   "outputs": [],
   "source": [
    "print(\"FORM\")\n",
    "\n",
    "solver = ot.SQP()\n",
    "form = ot.FORM(solver, E1, X.getMean())\n",
    "c1, c2, c3 =  f.getCallsNumber(), f.getGradientCallsNumber(), f.getHessianCallsNumber()\n",
    "form.run()\n",
    "result = form.getResult()\n",
    "print(\"Probability of E1 :\", result.getEventProbability())\n",
    "print('Number of calls to f:', f.getCallsNumber() - c1)\n",
    "print('Number of calls to f.gradient:', f.getGradientCallsNumber() - c2)\n",
    "print('Number of calls to f.hessian:', f.getHessianCallsNumber() - c3)"
   ]
  },
  {
   "cell_type": "code",
   "execution_count": null,
   "metadata": {},
   "outputs": [],
   "source": [
    "print(\"FORM\")\n",
    "solver = ot.SQP()\n",
    "form = ot.FORM(solver, E2, X.getMean())\n",
    "c1, c2, c3 =  f.getCallsNumber(), f.getGradientCallsNumber(), f.getHessianCallsNumber()\n",
    "form.run()\n",
    "result = form.getResult()\n",
    "print(\"Probability of E2 :\", result.getEventProbability())\n",
    "print('Number of calls to f:', f.getCallsNumber() - c1)\n",
    "print('Number of calls to f.gradient:', f.getGradientCallsNumber() - c2)\n",
    "print('Number of calls to f.hessian:', f.getHessianCallsNumber() - c3)"
   ]
  },
  {
   "cell_type": "code",
   "execution_count": null,
   "metadata": {},
   "outputs": [],
   "source": [
    "\n",
    "print(\"SORM\")\n",
    "\n",
    "solver = ot.SQP()\n",
    "sorm = ot.SORM(solver, E1, X.getMean())\n",
    "c1, c2, c3 =  f.getCallsNumber(), f.getGradientCallsNumber(), f.getHessianCallsNumber()\n",
    "sorm.run()\n",
    "result = sorm.getResult()\n",
    "print(\"Probability of E1 :\", result.getEventProbabilityBreitung())\n",
    "print('Number of calls to f:', f.getCallsNumber() - c1)\n",
    "print('Number of calls to f.gradient:', f.getGradientCallsNumber() - c2)\n",
    "print('Number of calls to f.hessian:', f.getHessianCallsNumber() - c3)"
   ]
  },
  {
   "cell_type": "code",
   "execution_count": null,
   "metadata": {},
   "outputs": [],
   "source": [
    "print(\"SORM\")\n",
    "solver = ot.SQP()\n",
    "sorm = ot.SORM(solver, E2, X.getMean())\n",
    "c1, c2, c3 =  f.getCallsNumber(), f.getGradientCallsNumber(), f.getHessianCallsNumber()\n",
    "sorm.run()\n",
    "result = sorm.getResult()\n",
    "print(\"Probability of E2 :\", result.getEventProbabilityBreitung())\n",
    "print('Number of calls to f:', f.getCallsNumber() - c1)\n",
    "print('Number of calls to f.gradient:', f.getGradientCallsNumber() - c2)\n",
    "print('Number of calls to f.hessian:', f.getHessianCallsNumber() - c3)"
   ]
  },
  {
   "cell_type": "markdown",
   "metadata": {},
   "source": [
    "Question 2"
   ]
  },
  {
   "cell_type": "markdown",
   "metadata": {},
   "source": [
    "> La probabilité de $E_1$ est de l'ordre de 0.06, pour avoir un écart-type de l'ordre\n",
    "de $0.1 \\times 0.06$, il faut faire environ $1 / (0.1^2 \\times 0.06)$ évalutations (env. 1666)"
   ]
  },
  {
   "cell_type": "markdown",
   "metadata": {},
   "source": [
    "> La probabilité de $E_2$ est de l'ordre de 0.8, pour avoir un écart-type de l'ordre \n",
    " de $0.1 \\times 0.8$, il faut faire environ $1 / (0.1^2 \\times 0.8)$ évalutations (env. 125)\n"
   ]
  },
  {
   "cell_type": "markdown",
   "metadata": {},
   "source": [
    "Question 3"
   ]
  },
  {
   "cell_type": "code",
   "execution_count": null,
   "metadata": {},
   "outputs": [],
   "source": [
    "monte_carlo = ot.MonteCarloExperiment(X.getDistribution(), 1700)\n",
    "verbose = True\n",
    "convergenceStrategy=ot.Compact()\n",
    "simu = ot.ProbabilitySimulationAlgorithm(E1, monte_carlo, verbose, convergenceStrategy)\n",
    "simu.setBlockSize(2) ## number of cpu\n",
    "simu.setMaximumOuterSampling(1000)\n",
    "simu.run()\n",
    "print('Probability estimate of E1 = %.6f' % simu.getResult().getProbabilityEstimate())"
   ]
  },
  {
   "cell_type": "code",
   "execution_count": null,
   "metadata": {},
   "outputs": [],
   "source": [
    "monte_carlo = ot.MonteCarloExperiment(X.getDistribution(), 125)\n",
    "verbose = True\n",
    "convergenceStrategy=ot.Compact()\n",
    "simu = ot.ProbabilitySimulationAlgorithm(E2, monte_carlo, verbose, convergenceStrategy)\n",
    "simu.setBlockSize(2) ## number of cpu\n",
    "simu.setMaximumOuterSampling(1000)\n",
    "simu.run()\n",
    "print('Probability estimate of E2 = %.6f' % simu.getResult().getProbabilityEstimate())"
   ]
  },
  {
   "cell_type": "markdown",
   "metadata": {},
   "source": [
    "Question 1"
   ]
  },
  {
   "cell_type": "code",
   "execution_count": null,
   "metadata": {
    "collapsed": true
   },
   "outputs": [],
   "source": [
    "T_evac  = ot.Uniform(90*60, 120*60)\n",
    "T_stabi = ot.Uniform(3*60*60, 4*60*60)\n",
    "\n",
    "marginals = [Z, gamma_g, k_er, tau_c, Rd, Rmax, T_evac, T_stabi]\n",
    "Xtilde_loi = ot.ComposedDistribution(marginals)\n",
    "Xtilde = ot.RandomVector(Xtilde_loi)"
   ]
  },
  {
   "cell_type": "markdown",
   "metadata": {},
   "source": [
    "Question 2"
   ]
  },
  {
   "cell_type": "code",
   "execution_count": null,
   "metadata": {
    "collapsed": true
   },
   "outputs": [],
   "source": [
    "\n",
    "f_tilde_evac = ot.SymbolicFunction(['Z', 'gamma_g', 'k_er', 'tau_c', 'Rd', 'Rmax', 'T_evac', 'T_stabi'],\n",
    "                        ['Z * gamma_g / (9.81 * k_er) * log( (Rmax - Z * tau_c) / (Rd - Z * tau_c) ) - T_evac'])\n",
    "W_evac = ot.RandomVector(f_tilde_evac, Xtilde)\n",
    "\n",
    "f_tilde_stabi = ot.SymbolicFunction(['Z', 'gamma_g', 'k_er', 'tau_c', 'Rd', 'Rmax', 'T_evac', 'T_stabi'],\n",
    "                        ['Z * gamma_g / (9.81 * k_er) * log( (Rmax - Z * tau_c) / (Rd - Z * tau_c) ) - T_stabi'])\n",
    "W_stabi = ot.RandomVector(f_tilde_stabi, Xtilde)"
   ]
  },
  {
   "cell_type": "markdown",
   "metadata": {},
   "source": [
    "Question 3"
   ]
  },
  {
   "cell_type": "code",
   "execution_count": null,
   "metadata": {
    "collapsed": true
   },
   "outputs": [],
   "source": [
    "E1_tilde = ot.Event(W_evac, ot.Less(), 0) # E1 : le barrage s'effondre avant l'evacuation\n",
    "E2_tilde = ot.Event(W_stabi, ot.Greater(), 0) # E2 : le barrage peut être stabilisé"
   ]
  },
  {
   "cell_type": "markdown",
   "metadata": {},
   "source": [
    "Question 4"
   ]
  },
  {
   "cell_type": "code",
   "execution_count": null,
   "metadata": {},
   "outputs": [],
   "source": [
    "print(\"FORM\")\n",
    "\n",
    "solver = ot.SQP()\n",
    "form = ot.FORM(solver, E1_tilde, Xtilde.getMean())\n",
    "form.run()\n",
    "result = form.getResult()\n",
    "print(\"Probability of E1_tilde :\", result.getEventProbability())"
   ]
  },
  {
   "cell_type": "code",
   "execution_count": null,
   "metadata": {},
   "outputs": [],
   "source": [
    "print(\"FORM\")\n",
    "solver = ot.SQP()\n",
    "form = ot.FORM(solver, E2_tilde, Xtilde.getMean())\n",
    "form.run()\n",
    "result = form.getResult()\n",
    "print(\"Probability of E2_tilde :\", result.getEventProbability())"
   ]
  },
  {
   "cell_type": "markdown",
   "metadata": {},
   "source": [
    "## 2.4 Approximation de modèle"
   ]
  },
  {
   "cell_type": "markdown",
   "metadata": {},
   "source": [
    "Question 1"
   ]
  },
  {
   "cell_type": "code",
   "execution_count": null,
   "metadata": {},
   "outputs": [],
   "source": [
    "Xtilde.getDimension()"
   ]
  },
  {
   "cell_type": "code",
   "execution_count": null,
   "metadata": {},
   "outputs": [],
   "source": [
    "d = Xtilde.getDimension()\n",
    "Xtilde_loi = Xtilde.getDistribution()\n",
    "enumerateFunction = ot.LinearEnumerateFunction(d)\n",
    "H = [ot.StandardDistributionPolynomialFactory(ot.AdaptiveStieltjesAlgorithm(Xtilde_loi.getMarginal(i))) for i in range(d)]\n",
    "productBasis = ot.OrthogonalProductPolynomialFactory(H,ot.LinearEnumerateFunction(d))\n",
    "m = enumerateFunction.getStrataCumulatedCardinal(3)\n",
    "print(m)"
   ]
  },
  {
   "cell_type": "code",
   "execution_count": null,
   "metadata": {
    "collapsed": true
   },
   "outputs": [],
   "source": [
    "in_sample = Xtilde.getSample(100)"
   ]
  },
  {
   "cell_type": "code",
   "execution_count": null,
   "metadata": {
    "collapsed": true
   },
   "outputs": [],
   "source": [
    "out_sample = f_tilde_stabi(in_sample)"
   ]
  },
  {
   "cell_type": "code",
   "execution_count": null,
   "metadata": {
    "collapsed": true
   },
   "outputs": [],
   "source": [
    "p = 3"
   ]
  },
  {
   "cell_type": "code",
   "execution_count": null,
   "metadata": {},
   "outputs": [],
   "source": [
    "algoSelection = ot.LeastSquaresMetaModelSelectionFactory(ot.LARS(),ot.CorrectedLeaveOneOut())\n",
    "algo_meta = ot.FunctionalChaosAlgorithm(in_sample,out_sample,Xtilde_loi,ot.FixedStrategy(productBasis,m),ot.LeastSquaresStrategy(algoSelection))\n",
    "algo_meta.run()\n",
    "result = algo_meta.getResult()\n",
    "meta_model = result.getMetaModel()"
   ]
  },
  {
   "cell_type": "markdown",
   "metadata": {},
   "source": [
    "Question 3"
   ]
  },
  {
   "cell_type": "code",
   "execution_count": null,
   "metadata": {
    "collapsed": true
   },
   "outputs": [],
   "source": [
    "test_in_sample = Xtilde.getSample(100)\n",
    "test_out_sample = f_tilde_stabi(test_in_sample)"
   ]
  },
  {
   "cell_type": "code",
   "execution_count": null,
   "metadata": {},
   "outputs": [],
   "source": [
    "valid = ot.MetaModelValidation(test_in_sample, test_out_sample, meta_model)"
   ]
  },
  {
   "cell_type": "code",
   "execution_count": null,
   "metadata": {},
   "outputs": [],
   "source": [
    "q2 = valid.computePredictivityFactor()\n",
    "print(q2)"
   ]
  },
  {
   "cell_type": "code",
   "execution_count": null,
   "metadata": {},
   "outputs": [],
   "source": [
    "ot.Show(valid.drawValidation())"
   ]
  },
  {
   "cell_type": "markdown",
   "metadata": {},
   "source": [
    "QUestion 4"
   ]
  },
  {
   "cell_type": "markdown",
   "metadata": {},
   "source": [
    "> La probabilité de $\\tilde{E_2}$ est de l'ordre de 0.8, pour avoir un écart-type de l'ordre \n",
    " de $0.01 \\times 0.8$, il faut faire environ $1 / (0.01^2 \\times 0.8)$ évalutations (env. 12500)\n"
   ]
  },
  {
   "cell_type": "code",
   "execution_count": null,
   "metadata": {},
   "outputs": [],
   "source": [
    "monte_carlo = ot.MonteCarloExperiment(Xtilde.getDistribution(), 12500)\n",
    "verbose = True\n",
    "convergenceStrategy=ot.Compact()\n",
    "simu = ot.ProbabilitySimulationAlgorithm(E2_tilde, monte_carlo, verbose, convergenceStrategy)\n",
    "simu.setBlockSize(2) ## number of cpu\n",
    "simu.setMaximumOuterSampling(1000)\n",
    "simu.run()\n",
    "print('Probability estimate of E2_tilde = %.6f' % simu.getResult().getProbabilityEstimate())"
   ]
  },
  {
   "cell_type": "markdown",
   "metadata": {},
   "source": [
    "## 2.5 Analyse de sensibilité"
   ]
  },
  {
   "cell_type": "code",
   "execution_count": null,
   "metadata": {
    "collapsed": true
   },
   "outputs": [],
   "source": []
  }
 ],
 "metadata": {
  "kernelspec": {
   "display_name": "Python 3",
   "language": "python",
   "name": "python3"
  },
  "language_info": {
   "codemirror_mode": {
    "name": "ipython",
    "version": 3
   },
   "file_extension": ".py",
   "mimetype": "text/x-python",
   "name": "python",
   "nbconvert_exporter": "python",
   "pygments_lexer": "ipython3",
   "version": "3.6.3"
  }
 },
 "nbformat": 4,
 "nbformat_minor": 2
}
